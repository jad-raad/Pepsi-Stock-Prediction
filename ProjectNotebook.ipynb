{
 "cells": [
  {
   "cell_type": "markdown",
   "id": "464cf16e",
   "metadata": {},
   "source": [
    "# CMPS284-ML-Project\n",
    "Done by: Jad Raad, Ali Younes, Ali Hamdan, Ahmad Termos\n",
    "Presented to: Dr. Ahmad Elhaj\n",
    "Fall 2023-2024"
   ]
  },
  {
   "cell_type": "markdown",
   "id": "8264fc41",
   "metadata": {},
   "source": [
    "# Importing Libraries\n",
    "requests: Used for making HTTP requests to fetch web data.\n",
    "BeautifulSoup: A library for pulling data out of HTML and XML files.\n",
    "pandas: A data manipulation library for data analysis.\n",
    "yfinance: A library for accessing financial data from Yahoo Finance.\n",
    "train_test_split: Function for splitting datasets into training and testing sets.\n",
    "RandomForestRegressor: An ensemble learning method for regression tasks.\n",
    "StandardScaler: Used for standardizing features by removing the mean and scaling to unit variance.\n",
    "mean_squared_error and r2_score: Metrics for evaluating the performance of regression models."
   ]
  },
  {
   "cell_type": "code",
   "execution_count": null,
   "id": "52bf6848",
   "metadata": {},
   "outputs": [],
   "source": [
    "import requests\n",
    "from bs4 import BeautifulSoup\n",
    "import pandas as pd\n",
    "import yfinance as yf\n",
    "from sklearn.model_selection import train_test_split\n",
    "from sklearn.ensemble import RandomForestRegressor\n",
    "from sklearn.preprocessing import StandardScaler\n",
    "from sklearn.metrics import mean_squared_error, r2_score"
   ]
  },
  {
   "cell_type": "markdown",
   "id": "e335f61a",
   "metadata": {},
   "source": [
    "# Function to Scrape Pepsi Stock Data\n",
    "scrape_pepsi_stock_data: Function to scrape Pepsi stock data from Yahoo Finance.\n",
    "It uses the requests library to get the HTML content of the Yahoo Finance page and BeautifulSoup to parse the HTML.\n",
    "The function then uses yfinance to download historical stock data for Pepsi from June 1, 2023, to January 1, 2024."
   ]
  },
  {
   "cell_type": "code",
   "execution_count": null,
   "id": "be62d085",
   "metadata": {},
   "outputs": [],
   "source": [
    "def scrape_pepsi_stock_data():\n",
    "    symbol = 'PEP'\n",
    "    url = f'https://finance.yahoo.com/quote/PEP?p=PEP&.tsrc=fin-srch'\n",
    "    response = requests.get(url)\n",
    "\n",
    "    if response.status_code == 200:\n",
    "        soup = BeautifulSoup(response.text, 'html.parser')\n",
    "        stock_data = yf.download(symbol, start='2023-06-01', end='2024-01-01')  # Extended start date\n",
    "        print(\"Scraped Data:\")\n",
    "        print(stock_data.tail())  # Display the last few rows of scraped data\n",
    "        return stock_data\n",
    "    else:\n",
    "        print(f\"Failed to fetch the webpage. Status code: {response.status_code}\")\n",
    "        return None\n"
   ]
  },
  {
   "cell_type": "markdown",
   "id": "30db4696",
   "metadata": {},
   "source": [
    "# Function to Add Political Factor\n",
    "add_political_factor: Function to add a binary political factor to the dataset.\n",
    "The function takes a DataFrame df as an argument and adds a new column 'Political_Factor' initialized with zeros.\n",
    "It then sets the political factor to 1 on specific dates defined in the political_events dictionary."
   ]
  },
  {
   "cell_type": "code",
   "execution_count": null,
   "id": "68443f29",
   "metadata": {},
   "outputs": [],
   "source": [
    "def add_political_factor(df):\n",
    "    political_events = {\n",
    "        '2023-10-07': 1,  # Example: Gaza War\n",
    "        # Add more dates and corresponding political factors as needed\n",
    "    }\n",
    "\n",
    "    df['Political_Factor'] = 0\n",
    "\n",
    "    for date, factor in political_events.items():\n",
    "        if date in df.index:\n",
    "            df.loc[date, 'Political_Factor'] = factor\n"
   ]
  },
  {
   "cell_type": "markdown",
   "id": "a6f4ca72",
   "metadata": {},
   "source": [
    "# Scrape Pepsi Stock Data:\n",
    "The function scrape_pepsi_stock_data is called to fetch historical stock data for PepsiCo from Yahoo Finance. The result is stored in the variable pepsi_stock_data."
   ]
  },
  {
   "cell_type": "code",
   "execution_count": null,
   "id": "c1ed0052",
   "metadata": {},
   "outputs": [],
   "source": [
    "# Scrape Pepsi stock data\n",
    "pepsi_stock_data = scrape_pepsi_stock_data()"
   ]
  },
  {
   "cell_type": "markdown",
   "id": "9ee9fad2",
   "metadata": {},
   "source": [
    "# Check if Data Retrieval was Successful:\n",
    "he script checks whether the stock data retrieval was successful by verifying if pepsi_stock_data is not equal to None. If the data is successfully retrieved, the script proceeds; otherwise, it prints an error message."
   ]
  },
  {
   "cell_type": "code",
   "execution_count": null,
   "id": "b23d68b3",
   "metadata": {},
   "outputs": [],
   "source": [
    "# Check if the data was successfully retrieved\n",
    "if pepsi_stock_data is not None:"
   ]
  },
  {
   "cell_type": "markdown",
   "id": "0b1f9746",
   "metadata": {},
   "source": [
    "# Create Lag Feature (Target):\n",
    "A new column 'Target' is created in pepsi_stock_data by shifting the 'Close' prices by one day. This represents the next day's closing price."
   ]
  },
  {
   "cell_type": "code",
   "execution_count": null,
   "id": "d8cc717d",
   "metadata": {},
   "outputs": [],
   "source": [
    "pepsi_stock_data['Target'] = pepsi_stock_data['Close'].shift(-1)\n"
   ]
  },
  {
   "cell_type": "markdown",
   "id": "313f0eec",
   "metadata": {},
   "source": [
    "# Add 'Date' Column:\n",
    "A new column 'Date' is added to the dataset, containing the index values (dates) from the stock data."
   ]
  },
  {
   "cell_type": "code",
   "execution_count": null,
   "id": "401ce18b",
   "metadata": {},
   "outputs": [],
   "source": [
    "pepsi_stock_data['Date'] = pepsi_stock_data.index\n"
   ]
  },
  {
   "cell_type": "markdown",
   "id": "eb4de874",
   "metadata": {},
   "source": [
    "# Add Political Factor:\n",
    "The add_political_factor function is called to incorporate a binary political factor into the dataset based on predefined political events and their dates."
   ]
  },
  {
   "cell_type": "code",
   "execution_count": null,
   "id": "2d54bf69",
   "metadata": {},
   "outputs": [],
   "source": [
    "add_political_factor(pepsi_stock_data)"
   ]
  },
  {
   "cell_type": "markdown",
   "id": "49bd4c5a",
   "metadata": {},
   "source": [
    "# Handling Missing Values:\n",
    "Rows with missing values introduced by creating lag features are dropped from the dataset."
   ]
  },
  {
   "cell_type": "code",
   "execution_count": null,
   "id": "c00c048d",
   "metadata": {},
   "outputs": [],
   "source": [
    "pepsi_stock_data = pepsi_stock_data.dropna()"
   ]
  },
  {
   "cell_type": "markdown",
   "id": "300a9e64",
   "metadata": {},
   "source": [
    "# Feature Selection:\n",
    "Features ('Open', 'High', 'Low', 'Close', 'Adj Close', 'Volume', 'Political_Factor') and the target variable ('Target') are selected."
   ]
  },
  {
   "cell_type": "code",
   "execution_count": null,
   "id": "49463acc",
   "metadata": {},
   "outputs": [],
   "source": [
    "features = ['Open', 'High', 'Low', 'Close', 'Adj Close', 'Volume', 'Political_Factor']\n",
    "X = pepsi_stock_data[features]\n",
    "y = pepsi_stock_data['Target']"
   ]
  },
  {
   "cell_type": "markdown",
   "id": "5a6e76e2",
   "metadata": {},
   "source": [
    "# Feature Scaling:\n",
    "Standard scaling is applied to the features using StandardScaler from scikit-learn. This ensures that all features have the same scale, preventing any particular feature from dominating the others during model training."
   ]
  },
  {
   "cell_type": "code",
   "execution_count": null,
   "id": "026ec59e",
   "metadata": {},
   "outputs": [],
   "source": [
    "scaler = StandardScaler()\n",
    "X_scaled = scaler.fit_transform(X)"
   ]
  },
  {
   "cell_type": "markdown",
   "id": "5208809c",
   "metadata": {},
   "source": [
    "# Train-Test Split:\n",
    "The dataset is split into training and testing sets using train_test_split from scikit-learn. The testing set comprises 20% of the data, and the random state is set for reproducibility (random_state=42)."
   ]
  },
  {
   "cell_type": "code",
   "execution_count": null,
   "id": "62043402",
   "metadata": {},
   "outputs": [],
   "source": [
    "X_train, X_test, y_train, y_test = train_test_split(X_scaled, y, test_size=0.2, random_state=42)"
   ]
  },
  {
   "cell_type": "markdown",
   "id": "3b36d52d",
   "metadata": {},
   "source": [
    "# Train Random Forest Model:\n",
    "A Random Forest regression model is instantiated and trained using the training set."
   ]
  },
  {
   "cell_type": "code",
   "execution_count": null,
   "id": "f2bb0e6e",
   "metadata": {},
   "outputs": [],
   "source": [
    "model = RandomForestRegressor(n_estimators=100, random_state=42)\n",
    "model.fit(X_train, y_train)"
   ]
  },
  {
   "cell_type": "markdown",
   "id": "63474830",
   "metadata": {},
   "source": [
    "# Model Evaluation:\n",
    "The model is evaluated on the testing set using Mean Squared Error (MSE) and R-squared (R2) scores."
   ]
  },
  {
   "cell_type": "code",
   "execution_count": null,
   "id": "84222648",
   "metadata": {},
   "outputs": [],
   "source": [
    "y_pred = model.predict(X_test)\n",
    "mse = mean_squared_error(y_test, y_pred)\n",
    "r2 = r2_score(y_test, y_pred)"
   ]
  },
  {
   "cell_type": "markdown",
   "id": "2a38a160",
   "metadata": {},
   "source": [
    "# The evaluation metrics are printed to assess the performance of the model."
   ]
  },
  {
   "cell_type": "code",
   "execution_count": null,
   "id": "59b6ba78",
   "metadata": {},
   "outputs": [],
   "source": [
    "print(\"\\nModel Evaluation:\")\n",
    "print(f'Mean Squared Error: {mse}')\n",
    "print(f'R-squared: {r2}')"
   ]
  },
  {
   "cell_type": "markdown",
   "id": "b5046a4f",
   "metadata": {},
   "source": [
    "# Make Prediction for the Next Day:\n",
    "The script predicts the next day's stock price using the trained model and the last data point in the dataset."
   ]
  },
  {
   "cell_type": "code",
   "execution_count": null,
   "id": "a993ca60",
   "metadata": {},
   "outputs": [],
   "source": [
    "last_data_point = X_scaled[-1].reshape(1, -1)\n",
    "next_day_prediction = model.predict(last_data_point)[0]"
   ]
  },
  {
   "cell_type": "code",
   "execution_count": null,
   "id": "5c704b2d",
   "metadata": {},
   "outputs": [],
   "source": [
    "print(\"\\nPredicted Next Day Stock Price:\")\n",
    "print(f\"Last Data Point:\\n{last_data_point}\")\n",
    "print(f'Prediction: {next_day_prediction}')"
   ]
  },
  {
   "cell_type": "markdown",
   "id": "599e07e1",
   "metadata": {},
   "source": [
    "# Handle Missing Data Case:\n",
    "If the stock data retrieval was not successful (i.e., pepsi_stock_data is None), an error message is printed."
   ]
  },
  {
   "cell_type": "code",
   "execution_count": null,
   "id": "0cdfa62d",
   "metadata": {},
   "outputs": [],
   "source": [
    "else:\n",
    "    print(\"No Pepsi stock data available.\")"
   ]
  }
 ],
 "metadata": {
  "kernelspec": {
   "display_name": "Python 3 (ipykernel)",
   "language": "python",
   "name": "python3"
  },
  "language_info": {
   "codemirror_mode": {
    "name": "ipython",
    "version": 3
   },
   "file_extension": ".py",
   "mimetype": "text/x-python",
   "name": "python",
   "nbconvert_exporter": "python",
   "pygments_lexer": "ipython3",
   "version": "3.11.5"
  }
 },
 "nbformat": 4,
 "nbformat_minor": 5
}
